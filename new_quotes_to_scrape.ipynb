{
 "cells": [
  {
   "cell_type": "code",
   "execution_count": 2,
   "metadata": {},
   "outputs": [],
   "source": [
    "# Import Dependencies\n",
    "import pymongo\n",
    "import requests\n",
    "import pandas as pd\n",
    "from bs4 import BeautifulSoup as soup\n",
    "from splinter import Browser\n",
    "from urllib.parse import urljoin\n",
    "from pymongo import MongoClient\n",
    "from sqlalchemy import create_engine\n",
    "\n"
   ]
  },
  {
   "cell_type": "code",
   "execution_count": 3,
   "metadata": {},
   "outputs": [],
   "source": [
    "# Set path to browser & start splinter\n",
    "browser = Browser('chrome')\n",
    "url = 'http://quotes.toscrape.com/'\n"
   ]
  },
  {
   "cell_type": "code",
   "execution_count": 4,
   "metadata": {},
   "outputs": [],
   "source": [
    "html = browser.html\n",
    "soup_obj = soup(html, 'html.parser')"
   ]
  },
  {
   "cell_type": "code",
   "execution_count": 5,
   "metadata": {},
   "outputs": [],
   "source": [
    "# Create multiple functions to scrape data\n",
    "def get_quote(soup_obj):\n",
    "    data = {}\n",
    "    data['text'] = soup_obj.find(\"span\", class_ = \"text\").text\n",
    "    data['author'] = soup_obj.find(\"small\", class_ = \"author\").text\n",
    "    link = soup_obj.a['href']\n",
    "    author_url = urljoin(url, link)\n",
    "    data['author'] = get_author_info(author_url)\n",
    "    data['tags'] = get_tags(soup_obj)\n",
    "    return data"
   ]
  },
  {
   "cell_type": "code",
   "execution_count": 6,
   "metadata": {},
   "outputs": [],
   "source": [
    "def get_author_info(url):\n",
    "    author_info = {}\n",
    "    response = requests.get(url)\n",
    "    soup1 =  soup(response.text, 'lxml') \n",
    "    author_info['name'] = soup1.find('h3', class_=\"author-title\").text.strip()   \n",
    "    author_info['born'] = soup1.find('span', class_=\"author-born-date\").text.strip()\n",
    "    author_info['location'] = soup1.find('span', class_=\"author-born-location\").text.strip()\n",
    "    author_info['description'] = soup1.find('div', class_=\"author-description\").text.strip()\n",
    "    return author_info"
   ]
  },
  {
   "cell_type": "code",
   "execution_count": 7,
   "metadata": {},
   "outputs": [],
   "source": [
    "def get_tags(soup_obj):\n",
    "    tags_list = []\n",
    "    for tag in soup_obj.findAll(\"a\", class_ = \"tag\"):\n",
    "        tags_list.append(tag.text) \n",
    "    return tags_list"
   ]
  },
  {
   "cell_type": "code",
   "execution_count": 8,
   "metadata": {},
   "outputs": [],
   "source": [
    "def all_quotes(page_number):\n",
    "    quote_list = []\n",
    "    html = browser.html\n",
    "    soup_obj = soup(html, 'html.parser')\n",
    "    quote_block = soup_obj.findAll(\"div\", class_=\"quote\")\n",
    "    num_quote = 10\n",
    "    quote_id = (page_number -1)  * num_quote \n",
    "    for block in quote_block:\n",
    "        quote_id = quote_id +1\n",
    "        quote = get_quote(block)\n",
    "        quote['id'] = quote_id\n",
    "        quote_list.append(quote) \n",
    "    return quote_list"
   ]
  },
  {
   "cell_type": "code",
   "execution_count": 9,
   "metadata": {},
   "outputs": [],
   "source": [
    "def scrape_all(url):\n",
    "\n",
    "    page_number = 0\n",
    "    final_quotes = []\n",
    "\n",
    "    for x in range(1,11):\n",
    "        page_number = page_number +1\n",
    "        browser.visit(f'http://quotes.toscrape.com/page/{x}/')\n",
    "        html = browser.html\n",
    "        soup_obj = soup(html, 'html.parser')\n",
    "\n",
    "        current_quotes = all_quotes(page_number)\n",
    "        final_quotes = final_quotes + current_quotes\n",
    "    return final_quotes\n",
    "        "
   ]
  },
  {
   "cell_type": "code",
   "execution_count": 10,
   "metadata": {},
   "outputs": [],
   "source": [
    "# Function to save data into mongodb\n",
    "def save(final_quotes):\n",
    "    conn = 'mongodb://localhost:27017'\n",
    "    client = pymongo.MongoClient(conn)\n",
    "    db = client.quotes_db\n",
    "    collection = db.quotes\n",
    "    collection.insert_many(final_quotes)"
   ]
  },
  {
   "cell_type": "code",
   "execution_count": 11,
   "metadata": {},
   "outputs": [],
   "source": [
    "final_quotes = scrape_all(url)\n",
    "browser.quit()"
   ]
  },
  {
   "cell_type": "code",
   "execution_count": 58,
   "metadata": {},
   "outputs": [],
   "source": [
    "save(final_quotes)"
   ]
  },
  {
   "cell_type": "code",
   "execution_count": 12,
   "metadata": {},
   "outputs": [],
   "source": [
    "# Reads mongodb data\n",
    "def extract_mongo():\n",
    "    conn = 'mongodb://localhost:27017'\n",
    "    client = pymongo.MongoClient(conn)\n",
    "    db = client.quotes_db\n",
    "    collection = db.quotes\n",
    "    return collection"
   ]
  },
  {
   "cell_type": "code",
   "execution_count": 13,
   "metadata": {},
   "outputs": [],
   "source": [
    "# Creates tables to allow mongodb tansfer to postgres\n",
    "def create_tables(extract):\n",
    "    quotes_table = []\n",
    "    authors = []\n",
    "    authors_table = []\n",
    "    tags_table = []\n",
    "    for x in extract.find({}):\n",
    "        quote = {}\n",
    "        quote['id'] = x['id']\n",
    "        quote['author_name'] = x['author']['name']\n",
    "        quote['text'] = x['text']\n",
    "        quotes_table.append(quote)\n",
    "\n",
    "        author = {}\n",
    "        author['name'] = x['author']['name']\n",
    "        author['born'] =  x['author']['born']\n",
    "        author['location'] =  x['author']['location']\n",
    "        author['description'] = x['author']['description']\n",
    "        if (author['name'] not in authors):\n",
    "            authors_table.append(author)\n",
    "            authors.append(author['name'])\n",
    "\n",
    "        for tag in x['tags']:\n",
    "            tags_table.append({'quote_id':x['id'] , 'tag' : tag})    \n",
    "            \n",
    "    return (quotes_table , authors_table ,tags_table)"
   ]
  },
  {
   "cell_type": "code",
   "execution_count": 14,
   "metadata": {},
   "outputs": [],
   "source": [
    "extract = extract_mongo()"
   ]
  },
  {
   "cell_type": "code",
   "execution_count": 15,
   "metadata": {},
   "outputs": [],
   "source": [
    "(quotes, authors, tags) = create_tables(extract)\n",
    "quotes_df = pd.DataFrame(quotes)\n",
    "authors_df = pd.DataFrame(authors)\n",
    "tags_df = pd.DataFrame(tags)"
   ]
  },
  {
   "cell_type": "code",
   "execution_count": 16,
   "metadata": {},
   "outputs": [
    {
     "data": {
      "text/html": [
       "<div>\n",
       "<style scoped>\n",
       "    .dataframe tbody tr th:only-of-type {\n",
       "        vertical-align: middle;\n",
       "    }\n",
       "\n",
       "    .dataframe tbody tr th {\n",
       "        vertical-align: top;\n",
       "    }\n",
       "\n",
       "    .dataframe thead th {\n",
       "        text-align: right;\n",
       "    }\n",
       "</style>\n",
       "<table border=\"1\" class=\"dataframe\">\n",
       "  <thead>\n",
       "    <tr style=\"text-align: right;\">\n",
       "      <th></th>\n",
       "      <th>name</th>\n",
       "      <th>born</th>\n",
       "      <th>location</th>\n",
       "      <th>description</th>\n",
       "    </tr>\n",
       "  </thead>\n",
       "  <tbody>\n",
       "    <tr>\n",
       "      <th>0</th>\n",
       "      <td>Albert Einstein</td>\n",
       "      <td>March 14, 1879</td>\n",
       "      <td>in Ulm, Germany</td>\n",
       "      <td>In 1879, Albert Einstein was born in Ulm, Germ...</td>\n",
       "    </tr>\n",
       "    <tr>\n",
       "      <th>1</th>\n",
       "      <td>J.K. Rowling</td>\n",
       "      <td>July 31, 1965</td>\n",
       "      <td>in Yate, South Gloucestershire, England, The U...</td>\n",
       "      <td>See also: Robert GalbraithAlthough she writes ...</td>\n",
       "    </tr>\n",
       "    <tr>\n",
       "      <th>2</th>\n",
       "      <td>Jane Austen</td>\n",
       "      <td>December 16, 1775</td>\n",
       "      <td>in Steventon Rectory, Hampshire, The United Ki...</td>\n",
       "      <td>Jane Austen was an English novelist whose work...</td>\n",
       "    </tr>\n",
       "    <tr>\n",
       "      <th>3</th>\n",
       "      <td>Marilyn Monroe</td>\n",
       "      <td>June 01, 1926</td>\n",
       "      <td>in The United States</td>\n",
       "      <td>Marilyn Monroe (born Norma Jeane Mortenson; Ju...</td>\n",
       "    </tr>\n",
       "    <tr>\n",
       "      <th>4</th>\n",
       "      <td>André Gide</td>\n",
       "      <td>November 22, 1869</td>\n",
       "      <td>in Paris, France</td>\n",
       "      <td>André Paul Guillaume Gide was a French author ...</td>\n",
       "    </tr>\n",
       "  </tbody>\n",
       "</table>\n",
       "</div>"
      ],
      "text/plain": [
       "              name               born  \\\n",
       "0  Albert Einstein     March 14, 1879   \n",
       "1     J.K. Rowling      July 31, 1965   \n",
       "2      Jane Austen  December 16, 1775   \n",
       "3   Marilyn Monroe      June 01, 1926   \n",
       "4       André Gide  November 22, 1869   \n",
       "\n",
       "                                            location  \\\n",
       "0                                    in Ulm, Germany   \n",
       "1  in Yate, South Gloucestershire, England, The U...   \n",
       "2  in Steventon Rectory, Hampshire, The United Ki...   \n",
       "3                               in The United States   \n",
       "4                                   in Paris, France   \n",
       "\n",
       "                                         description  \n",
       "0  In 1879, Albert Einstein was born in Ulm, Germ...  \n",
       "1  See also: Robert GalbraithAlthough she writes ...  \n",
       "2  Jane Austen was an English novelist whose work...  \n",
       "3  Marilyn Monroe (born Norma Jeane Mortenson; Ju...  \n",
       "4  André Paul Guillaume Gide was a French author ...  "
      ]
     },
     "execution_count": 16,
     "metadata": {},
     "output_type": "execute_result"
    }
   ],
   "source": [
    "authors_df.head()"
   ]
  },
  {
   "cell_type": "code",
   "execution_count": 17,
   "metadata": {},
   "outputs": [],
   "source": [
    "# Postgres connection string (quotes_db database)\n",
    "connection_string = f\"postgres:postgres@localhost:5432/quotes_db\"\n",
    "engine = create_engine(f'postgresql://{connection_string}')"
   ]
  },
  {
   "cell_type": "code",
   "execution_count": 18,
   "metadata": {},
   "outputs": [],
   "source": [
    "quotes_table_query = '''\n",
    "    create table quotes(     id INTEGER PRIMARY KEY,    \n",
    "    author_name varchar(32),    \n",
    "    text varchar(1500))\n",
    "'''\n",
    "\n",
    "tags_table_query = '''\n",
    "    create table tags(    quote_id INTEGER,    \n",
    "    tag varchar(32))\n",
    "'''\n",
    "\n",
    "author_table_query = '''\n",
    "    create table author( name varchar(32) PRIMARY KEY,    \n",
    "    born varchar(32),\n",
    "    location varchar(1000),\n",
    "    description varchar(10000))\n",
    "'''"
   ]
  },
  {
   "cell_type": "code",
   "execution_count": 19,
   "metadata": {},
   "outputs": [],
   "source": [
    "# First attempt to create tables in postgres\n",
    "\n",
    "#  tables = {'quotes' : quotes_table_query.strip(), \n",
    "#           'tags' : tags_table_query.strip(),\n",
    "#           'author' : author_table_query.strip()\n",
    "#          }"
   ]
  },
  {
   "cell_type": "code",
   "execution_count": 109,
   "metadata": {},
   "outputs": [],
   "source": [
    "# for table in tables.keys():\n",
    "#     engine.execute(f'drop table IF EXISTS {table}')"
   ]
  },
  {
   "cell_type": "code",
   "execution_count": 21,
   "metadata": {},
   "outputs": [],
   "source": [
    "# for query in tables.items():\n",
    "#     engine.execute(f'{query}')"
   ]
  },
  {
   "cell_type": "code",
   "execution_count": 20,
   "metadata": {},
   "outputs": [
    {
     "data": {
      "text/plain": [
       "['quotes', 'tags', 'author']"
      ]
     },
     "execution_count": 20,
     "metadata": {},
     "output_type": "execute_result"
    }
   ],
   "source": [
    "# Code below brings data from mongodb to postgres\n",
    "engine.table_names() "
   ]
  },
  {
   "cell_type": "code",
   "execution_count": 22,
   "metadata": {},
   "outputs": [],
   "source": [
    "quotes_df.to_sql(name='quotes', con=engine, if_exists='append', index=False) "
   ]
  },
  {
   "cell_type": "code",
   "execution_count": 23,
   "metadata": {},
   "outputs": [],
   "source": [
    "tags_df.to_sql(name='tags', con=engine, if_exists='append', index=False) "
   ]
  },
  {
   "cell_type": "code",
   "execution_count": 26,
   "metadata": {},
   "outputs": [],
   "source": [
    "authors_df.to_sql(name='author', con=engine, if_exists='append', index=False) "
   ]
  },
  {
   "cell_type": "code",
   "execution_count": null,
   "metadata": {},
   "outputs": [],
   "source": []
  }
 ],
 "metadata": {
  "kernelspec": {
   "display_name": "Python 3",
   "language": "python",
   "name": "python3"
  },
  "language_info": {
   "codemirror_mode": {
    "name": "ipython",
    "version": 3
   },
   "file_extension": ".py",
   "mimetype": "text/x-python",
   "name": "python",
   "nbconvert_exporter": "python",
   "pygments_lexer": "ipython3",
   "version": "3.8.3"
  }
 },
 "nbformat": 4,
 "nbformat_minor": 4
}
